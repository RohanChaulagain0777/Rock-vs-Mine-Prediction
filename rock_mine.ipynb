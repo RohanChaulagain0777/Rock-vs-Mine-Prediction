{
 "cells": [
  {
   "cell_type": "markdown",
   "id": "6ff3b3e4",
   "metadata": {},
   "source": [
    "Rock Vs Mine Prediction"
   ]
  }
 ],
 "metadata": {
  "language_info": {
   "name": "python"
  }
 },
 "nbformat": 4,
 "nbformat_minor": 5
}
